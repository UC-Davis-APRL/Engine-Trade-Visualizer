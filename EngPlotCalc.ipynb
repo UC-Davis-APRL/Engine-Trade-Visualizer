{
 "cells": [
  {
   "cell_type": "code",
   "execution_count": 43,
   "id": "1d6f4fac",
   "metadata": {},
   "outputs": [],
   "source": [
    "#startup, run EngineClass prior\n",
    "import numpy as np\n",
    "import plotly.graph_objects as go\n",
    "from EngineClass import engine"
   ]
  },
  {
   "cell_type": "code",
   "execution_count": 44,
   "id": "72ceb90e",
   "metadata": {},
   "outputs": [],
   "source": [
    "def generate_engine_grid(OF_range, Pc_range, M_dot):\n",
    "    engines = []\n",
    "    for OF in OF_range:\n",
    "        row = [] \n",
    "        for Pc_atm in Pc_range:\n",
    "            try:\n",
    "                e = engine(OF=OF, Pc_atm=Pc_atm, M_dot=M_dot)\n",
    "                row.append(e)\n",
    "            except Exception as err:\n",
    "                print(f\"Failed at OF={OF}, Pc={Pc_atm}: {err}\") \n",
    "                row.append(None)\n",
    "        engines.append(row)\n",
    "\n",
    "    return np.array(engines, dtype=object)"
   ]
  },
  {
   "cell_type": "code",
   "execution_count": 45,
   "id": "c9592d0b",
   "metadata": {},
   "outputs": [],
   "source": [
    "def extract_metric(engines, attr):\n",
    "    return np.array([\n",
    "        [getattr(e, attr).magnitude if e else None for e in row]\n",
    "        for row in engines\n",
    "    ])"
   ]
  },
  {
   "cell_type": "code",
   "execution_count": 46,
   "id": "b78a396d",
   "metadata": {},
   "outputs": [],
   "source": [
    "def plot_heatmap(x_range, y_range, z_data, title, z_label):\n",
    "    fig = go.Figure(data=go.Heatmap(\n",
    "        x=x_range,\n",
    "        y=y_range,\n",
    "        z=z_data,\n",
    "        colorscale='Viridis',\n",
    "        colorbar_title=z_label,  # <- no parentheses here\n",
    "        hovertemplate=\n",
    "            \"O/F: %{x}<br>\" +\n",
    "            \"Pc [atm]: %{y}<br>\" +\n",
    "            z_label + \": %{z}<extra></extra>\"\n",
    "\n",
    "    ))\n",
    "\n",
    "    fig.update_layout(\n",
    "        title=title,\n",
    "        xaxis_title=\"O/F Ratio\",\n",
    "        yaxis_title=\"Chamber Pressure (atm)\",\n",
    "        width=800,\n",
    "        height=700\n",
    "    )\n",
    "\n",
    "    fig.show()\n",
    "\n"
   ]
  },
  {
   "cell_type": "code",
   "execution_count": 47,
   "id": "a96d7ddd",
   "metadata": {},
   "outputs": [
    {
     "name": "stdout",
     "output_type": "stream",
     "text": [
      "reading cea isp data files for LOX / RP_1 14700 times\n",
      "reading cea isp data files for LOX / RP_1 14800 times\n",
      "reading cea isp data files for LOX / RP_1 14900 times\n",
      "reading cea isp data files for LOX / RP_1 15000 times\n",
      "reading cea isp data files for LOX / RP_1 15100 times\n",
      "reading cea isp data files for LOX / RP_1 15200 times\n",
      "reading cea isp data files for LOX / RP_1 15300 times\n",
      "reading cea isp data files for LOX / RP_1 15400 times\n",
      "reading cea isp data files for LOX / RP_1 15500 times\n"
     ]
    }
   ],
   "source": [
    "OF_range = np.linspace(1.5, 10,30)\n",
    "Pc_range = np.linspace(10, 50, 30)\n",
    "M_dot = 1.0\n",
    "#Defines ranges for OF, Pc, as well as Mdot\n",
    "engine_grid = generate_engine_grid(OF_range, Pc_range, M_dot)\n",
    "#Generates grid prior to plotting heatmap"
   ]
  },
  {
   "cell_type": "code",
   "execution_count": 48,
   "id": "e54b59f4",
   "metadata": {},
   "outputs": [
    {
     "data": {
      "application/vnd.plotly.v1+json": {
       "config": {
        "plotlyServerURL": "https://plot.ly"
       },
       "data": [
        {
         "colorbar": {
          "title": {
           "text": "Isp [s]"
          }
         },
         "colorscale": [
          [
           0,
           "#440154"
          ],
          [
           0.1111111111111111,
           "#482878"
          ],
          [
           0.2222222222222222,
           "#3e4989"
          ],
          [
           0.3333333333333333,
           "#31688e"
          ],
          [
           0.4444444444444444,
           "#26828e"
          ],
          [
           0.5555555555555556,
           "#1f9e89"
          ],
          [
           0.6666666666666666,
           "#35b779"
          ],
          [
           0.7777777777777778,
           "#6ece58"
          ],
          [
           0.8888888888888888,
           "#b5de2b"
          ],
          [
           1,
           "#fde725"
          ]
         ],
         "hovertemplate": "O/F: %{x}<br>Pc [atm]: %{y}<br>Isp [s]: %{z}<extra></extra>",
         "type": "heatmap",
         "x": {
          "bdata": "AAAAAAAA+D/UCMs9jbD8P9QIyz2NsABAPo2w3NMIA0CoEZZ7GmEFQBKWexphuQdAexphuacRCkDlnkZY7mkMQE8jLPc0wg5A3NMIyz2NEEASlnsaYbkRQEZY7mmE5RJAexphuacRFECw3NMIyz0VQOWeRljuaRZAGmG5pxGWF0BPIyz3NMIYQITlnkZY7hlAuacRlnsaG0DuaYTlnkYcQCMs9zTCch1AWO5phOWeHkCNsNzTCMsfQGG5pxGWeyBAexphuacRIUCWexphuachQLDc0wjLPSJAyj2NsNzTIkDlnkZY7mkjQAAAAAAAACRA",
          "dtype": "f8"
         },
         "y": {
          "bdata": "AAAAAAAAJEBQIyz3NMImQJ9GWO5phClA7mmE5Z5GLEA+jbDc0wgvQEdY7mmE5TBA7mmE5Z5GMkCWexphuaczQD6NsNzTCDVA5p5GWO5pNkCOsNzTCMs3QDXCck8jLDlA3dMIyz2NOkCF5Z5GWO47QCz3NMJyTz1A1AjLPY2wPkA+jbDc0whAQBKWexphuUBA5p5GWO5pQUC6pxGWexpCQI6w3NMIy0JAYrmnEZZ7Q0A1wnJPIyxEQAnLPY2w3ERA3dMIyz2NRUCx3NMIyz1GQIXlnkZY7kZAWe5phOWeR0As9zTCck9IQAAAAAAAAElA",
          "dtype": "f8"
         },
         "z": {
          "bdata": "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",
          "dtype": "f8",
          "shape": "30, 30"
         }
        }
       ],
       "layout": {
        "height": 700,
        "template": {
         "data": {
          "bar": [
           {
            "error_x": {
             "color": "#2a3f5f"
            },
            "error_y": {
             "color": "#2a3f5f"
            },
            "marker": {
             "line": {
              "color": "#E5ECF6",
              "width": 0.5
             },
             "pattern": {
              "fillmode": "overlay",
              "size": 10,
              "solidity": 0.2
             }
            },
            "type": "bar"
           }
          ],
          "barpolar": [
           {
            "marker": {
             "line": {
              "color": "#E5ECF6",
              "width": 0.5
             },
             "pattern": {
              "fillmode": "overlay",
              "size": 10,
              "solidity": 0.2
             }
            },
            "type": "barpolar"
           }
          ],
          "carpet": [
           {
            "aaxis": {
             "endlinecolor": "#2a3f5f",
             "gridcolor": "white",
             "linecolor": "white",
             "minorgridcolor": "white",
             "startlinecolor": "#2a3f5f"
            },
            "baxis": {
             "endlinecolor": "#2a3f5f",
             "gridcolor": "white",
             "linecolor": "white",
             "minorgridcolor": "white",
             "startlinecolor": "#2a3f5f"
            },
            "type": "carpet"
           }
          ],
          "choropleth": [
           {
            "colorbar": {
             "outlinewidth": 0,
             "ticks": ""
            },
            "type": "choropleth"
           }
          ],
          "contour": [
           {
            "colorbar": {
             "outlinewidth": 0,
             "ticks": ""
            },
            "colorscale": [
             [
              0,
              "#0d0887"
             ],
             [
              0.1111111111111111,
              "#46039f"
             ],
             [
              0.2222222222222222,
              "#7201a8"
             ],
             [
              0.3333333333333333,
              "#9c179e"
             ],
             [
              0.4444444444444444,
              "#bd3786"
             ],
             [
              0.5555555555555556,
              "#d8576b"
             ],
             [
              0.6666666666666666,
              "#ed7953"
             ],
             [
              0.7777777777777778,
              "#fb9f3a"
             ],
             [
              0.8888888888888888,
              "#fdca26"
             ],
             [
              1,
              "#f0f921"
             ]
            ],
            "type": "contour"
           }
          ],
          "contourcarpet": [
           {
            "colorbar": {
             "outlinewidth": 0,
             "ticks": ""
            },
            "type": "contourcarpet"
           }
          ],
          "heatmap": [
           {
            "colorbar": {
             "outlinewidth": 0,
             "ticks": ""
            },
            "colorscale": [
             [
              0,
              "#0d0887"
             ],
             [
              0.1111111111111111,
              "#46039f"
             ],
             [
              0.2222222222222222,
              "#7201a8"
             ],
             [
              0.3333333333333333,
              "#9c179e"
             ],
             [
              0.4444444444444444,
              "#bd3786"
             ],
             [
              0.5555555555555556,
              "#d8576b"
             ],
             [
              0.6666666666666666,
              "#ed7953"
             ],
             [
              0.7777777777777778,
              "#fb9f3a"
             ],
             [
              0.8888888888888888,
              "#fdca26"
             ],
             [
              1,
              "#f0f921"
             ]
            ],
            "type": "heatmap"
           }
          ],
          "histogram": [
           {
            "marker": {
             "pattern": {
              "fillmode": "overlay",
              "size": 10,
              "solidity": 0.2
             }
            },
            "type": "histogram"
           }
          ],
          "histogram2d": [
           {
            "colorbar": {
             "outlinewidth": 0,
             "ticks": ""
            },
            "colorscale": [
             [
              0,
              "#0d0887"
             ],
             [
              0.1111111111111111,
              "#46039f"
             ],
             [
              0.2222222222222222,
              "#7201a8"
             ],
             [
              0.3333333333333333,
              "#9c179e"
             ],
             [
              0.4444444444444444,
              "#bd3786"
             ],
             [
              0.5555555555555556,
              "#d8576b"
             ],
             [
              0.6666666666666666,
              "#ed7953"
             ],
             [
              0.7777777777777778,
              "#fb9f3a"
             ],
             [
              0.8888888888888888,
              "#fdca26"
             ],
             [
              1,
              "#f0f921"
             ]
            ],
            "type": "histogram2d"
           }
          ],
          "histogram2dcontour": [
           {
            "colorbar": {
             "outlinewidth": 0,
             "ticks": ""
            },
            "colorscale": [
             [
              0,
              "#0d0887"
             ],
             [
              0.1111111111111111,
              "#46039f"
             ],
             [
              0.2222222222222222,
              "#7201a8"
             ],
             [
              0.3333333333333333,
              "#9c179e"
             ],
             [
              0.4444444444444444,
              "#bd3786"
             ],
             [
              0.5555555555555556,
              "#d8576b"
             ],
             [
              0.6666666666666666,
              "#ed7953"
             ],
             [
              0.7777777777777778,
              "#fb9f3a"
             ],
             [
              0.8888888888888888,
              "#fdca26"
             ],
             [
              1,
              "#f0f921"
             ]
            ],
            "type": "histogram2dcontour"
           }
          ],
          "mesh3d": [
           {
            "colorbar": {
             "outlinewidth": 0,
             "ticks": ""
            },
            "type": "mesh3d"
           }
          ],
          "parcoords": [
           {
            "line": {
             "colorbar": {
              "outlinewidth": 0,
              "ticks": ""
             }
            },
            "type": "parcoords"
           }
          ],
          "pie": [
           {
            "automargin": true,
            "type": "pie"
           }
          ],
          "scatter": [
           {
            "fillpattern": {
             "fillmode": "overlay",
             "size": 10,
             "solidity": 0.2
            },
            "type": "scatter"
           }
          ],
          "scatter3d": [
           {
            "line": {
             "colorbar": {
              "outlinewidth": 0,
              "ticks": ""
             }
            },
            "marker": {
             "colorbar": {
              "outlinewidth": 0,
              "ticks": ""
             }
            },
            "type": "scatter3d"
           }
          ],
          "scattercarpet": [
           {
            "marker": {
             "colorbar": {
              "outlinewidth": 0,
              "ticks": ""
             }
            },
            "type": "scattercarpet"
           }
          ],
          "scattergeo": [
           {
            "marker": {
             "colorbar": {
              "outlinewidth": 0,
              "ticks": ""
             }
            },
            "type": "scattergeo"
           }
          ],
          "scattergl": [
           {
            "marker": {
             "colorbar": {
              "outlinewidth": 0,
              "ticks": ""
             }
            },
            "type": "scattergl"
           }
          ],
          "scattermap": [
           {
            "marker": {
             "colorbar": {
              "outlinewidth": 0,
              "ticks": ""
             }
            },
            "type": "scattermap"
           }
          ],
          "scattermapbox": [
           {
            "marker": {
             "colorbar": {
              "outlinewidth": 0,
              "ticks": ""
             }
            },
            "type": "scattermapbox"
           }
          ],
          "scatterpolar": [
           {
            "marker": {
             "colorbar": {
              "outlinewidth": 0,
              "ticks": ""
             }
            },
            "type": "scatterpolar"
           }
          ],
          "scatterpolargl": [
           {
            "marker": {
             "colorbar": {
              "outlinewidth": 0,
              "ticks": ""
             }
            },
            "type": "scatterpolargl"
           }
          ],
          "scatterternary": [
           {
            "marker": {
             "colorbar": {
              "outlinewidth": 0,
              "ticks": ""
             }
            },
            "type": "scatterternary"
           }
          ],
          "surface": [
           {
            "colorbar": {
             "outlinewidth": 0,
             "ticks": ""
            },
            "colorscale": [
             [
              0,
              "#0d0887"
             ],
             [
              0.1111111111111111,
              "#46039f"
             ],
             [
              0.2222222222222222,
              "#7201a8"
             ],
             [
              0.3333333333333333,
              "#9c179e"
             ],
             [
              0.4444444444444444,
              "#bd3786"
             ],
             [
              0.5555555555555556,
              "#d8576b"
             ],
             [
              0.6666666666666666,
              "#ed7953"
             ],
             [
              0.7777777777777778,
              "#fb9f3a"
             ],
             [
              0.8888888888888888,
              "#fdca26"
             ],
             [
              1,
              "#f0f921"
             ]
            ],
            "type": "surface"
           }
          ],
          "table": [
           {
            "cells": {
             "fill": {
              "color": "#EBF0F8"
             },
             "line": {
              "color": "white"
             }
            },
            "header": {
             "fill": {
              "color": "#C8D4E3"
             },
             "line": {
              "color": "white"
             }
            },
            "type": "table"
           }
          ]
         },
         "layout": {
          "annotationdefaults": {
           "arrowcolor": "#2a3f5f",
           "arrowhead": 0,
           "arrowwidth": 1
          },
          "autotypenumbers": "strict",
          "coloraxis": {
           "colorbar": {
            "outlinewidth": 0,
            "ticks": ""
           }
          },
          "colorscale": {
           "diverging": [
            [
             0,
             "#8e0152"
            ],
            [
             0.1,
             "#c51b7d"
            ],
            [
             0.2,
             "#de77ae"
            ],
            [
             0.3,
             "#f1b6da"
            ],
            [
             0.4,
             "#fde0ef"
            ],
            [
             0.5,
             "#f7f7f7"
            ],
            [
             0.6,
             "#e6f5d0"
            ],
            [
             0.7,
             "#b8e186"
            ],
            [
             0.8,
             "#7fbc41"
            ],
            [
             0.9,
             "#4d9221"
            ],
            [
             1,
             "#276419"
            ]
           ],
           "sequential": [
            [
             0,
             "#0d0887"
            ],
            [
             0.1111111111111111,
             "#46039f"
            ],
            [
             0.2222222222222222,
             "#7201a8"
            ],
            [
             0.3333333333333333,
             "#9c179e"
            ],
            [
             0.4444444444444444,
             "#bd3786"
            ],
            [
             0.5555555555555556,
             "#d8576b"
            ],
            [
             0.6666666666666666,
             "#ed7953"
            ],
            [
             0.7777777777777778,
             "#fb9f3a"
            ],
            [
             0.8888888888888888,
             "#fdca26"
            ],
            [
             1,
             "#f0f921"
            ]
           ],
           "sequentialminus": [
            [
             0,
             "#0d0887"
            ],
            [
             0.1111111111111111,
             "#46039f"
            ],
            [
             0.2222222222222222,
             "#7201a8"
            ],
            [
             0.3333333333333333,
             "#9c179e"
            ],
            [
             0.4444444444444444,
             "#bd3786"
            ],
            [
             0.5555555555555556,
             "#d8576b"
            ],
            [
             0.6666666666666666,
             "#ed7953"
            ],
            [
             0.7777777777777778,
             "#fb9f3a"
            ],
            [
             0.8888888888888888,
             "#fdca26"
            ],
            [
             1,
             "#f0f921"
            ]
           ]
          },
          "colorway": [
           "#636efa",
           "#EF553B",
           "#00cc96",
           "#ab63fa",
           "#FFA15A",
           "#19d3f3",
           "#FF6692",
           "#B6E880",
           "#FF97FF",
           "#FECB52"
          ],
          "font": {
           "color": "#2a3f5f"
          },
          "geo": {
           "bgcolor": "white",
           "lakecolor": "white",
           "landcolor": "#E5ECF6",
           "showlakes": true,
           "showland": true,
           "subunitcolor": "white"
          },
          "hoverlabel": {
           "align": "left"
          },
          "hovermode": "closest",
          "mapbox": {
           "style": "light"
          },
          "paper_bgcolor": "white",
          "plot_bgcolor": "#E5ECF6",
          "polar": {
           "angularaxis": {
            "gridcolor": "white",
            "linecolor": "white",
            "ticks": ""
           },
           "bgcolor": "#E5ECF6",
           "radialaxis": {
            "gridcolor": "white",
            "linecolor": "white",
            "ticks": ""
           }
          },
          "scene": {
           "xaxis": {
            "backgroundcolor": "#E5ECF6",
            "gridcolor": "white",
            "gridwidth": 2,
            "linecolor": "white",
            "showbackground": true,
            "ticks": "",
            "zerolinecolor": "white"
           },
           "yaxis": {
            "backgroundcolor": "#E5ECF6",
            "gridcolor": "white",
            "gridwidth": 2,
            "linecolor": "white",
            "showbackground": true,
            "ticks": "",
            "zerolinecolor": "white"
           },
           "zaxis": {
            "backgroundcolor": "#E5ECF6",
            "gridcolor": "white",
            "gridwidth": 2,
            "linecolor": "white",
            "showbackground": true,
            "ticks": "",
            "zerolinecolor": "white"
           }
          },
          "shapedefaults": {
           "line": {
            "color": "#2a3f5f"
           }
          },
          "ternary": {
           "aaxis": {
            "gridcolor": "white",
            "linecolor": "white",
            "ticks": ""
           },
           "baxis": {
            "gridcolor": "white",
            "linecolor": "white",
            "ticks": ""
           },
           "bgcolor": "#E5ECF6",
           "caxis": {
            "gridcolor": "white",
            "linecolor": "white",
            "ticks": ""
           }
          },
          "title": {
           "x": 0.05
          },
          "xaxis": {
           "automargin": true,
           "gridcolor": "white",
           "linecolor": "white",
           "ticks": "",
           "title": {
            "standoff": 15
           },
           "zerolinecolor": "white",
           "zerolinewidth": 2
          },
          "yaxis": {
           "automargin": true,
           "gridcolor": "white",
           "linecolor": "white",
           "ticks": "",
           "title": {
            "standoff": 15
           },
           "zerolinecolor": "white",
           "zerolinewidth": 2
          }
         }
        },
        "title": {
         "text": "Isp vs OF and Pc"
        },
        "width": 800,
        "xaxis": {
         "title": {
          "text": "O/F Ratio"
         }
        },
        "yaxis": {
         "title": {
          "text": "Chamber Pressure (atm)"
         }
        }
       }
      }
     },
     "metadata": {},
     "output_type": "display_data"
    },
    {
     "data": {
      "application/vnd.plotly.v1+json": {
       "config": {
        "plotlyServerURL": "https://plot.ly"
       },
       "data": [
        {
         "colorbar": {
          "title": {
           "text": "Thrust [N]"
          }
         },
         "colorscale": [
          [
           0,
           "#440154"
          ],
          [
           0.1111111111111111,
           "#482878"
          ],
          [
           0.2222222222222222,
           "#3e4989"
          ],
          [
           0.3333333333333333,
           "#31688e"
          ],
          [
           0.4444444444444444,
           "#26828e"
          ],
          [
           0.5555555555555556,
           "#1f9e89"
          ],
          [
           0.6666666666666666,
           "#35b779"
          ],
          [
           0.7777777777777778,
           "#6ece58"
          ],
          [
           0.8888888888888888,
           "#b5de2b"
          ],
          [
           1,
           "#fde725"
          ]
         ],
         "hovertemplate": "O/F: %{x}<br>Pc [atm]: %{y}<br>Thrust [N]: %{z}<extra></extra>",
         "type": "heatmap",
         "x": {
          "bdata": "AAAAAAAA+D/UCMs9jbD8P9QIyz2NsABAPo2w3NMIA0CoEZZ7GmEFQBKWexphuQdAexphuacRCkDlnkZY7mkMQE8jLPc0wg5A3NMIyz2NEEASlnsaYbkRQEZY7mmE5RJAexphuacRFECw3NMIyz0VQOWeRljuaRZAGmG5pxGWF0BPIyz3NMIYQITlnkZY7hlAuacRlnsaG0DuaYTlnkYcQCMs9zTCch1AWO5phOWeHkCNsNzTCMsfQGG5pxGWeyBAexphuacRIUCWexphuachQLDc0wjLPSJAyj2NsNzTIkDlnkZY7mkjQAAAAAAAACRA",
          "dtype": "f8"
         },
         "y": {
          "bdata": "AAAAAAAAJEBQIyz3NMImQJ9GWO5phClA7mmE5Z5GLEA+jbDc0wgvQEdY7mmE5TBA7mmE5Z5GMkCWexphuaczQD6NsNzTCDVA5p5GWO5pNkCOsNzTCMs3QDXCck8jLDlA3dMIyz2NOkCF5Z5GWO47QCz3NMJyTz1A1AjLPY2wPkA+jbDc0whAQBKWexphuUBA5p5GWO5pQUC6pxGWexpCQI6w3NMIy0JAYrmnEZZ7Q0A1wnJPIyxEQAnLPY2w3ERA3dMIyz2NRUCx3NMIyz1GQIXlnkZY7kZAWe5phOWeR0As9zTCck9IQAAAAAAAAElA",
          "dtype": "f8"
         },
         "z": {
          "bdata": "9W4i2KNAoEBpo621DpmgQD9Fj5rU46BAEWViR0MkoUDyu9iprFyhQCMrhCasjqFA1o4ESnK7oUDTvjzj5OOhQJuiaum0CKJAaEwRfm0qokDXPgXAfUmiQCv6Grg/ZqJAUB3zUP2AokC7B6Hg85miQIYvac1WsaJAtPCWm1HHokCUTFZmCdyiQIFb+gie76JAKbGiJSsCo0CvOl+0yBOjQMlGmsKLJKNAQQVN14Y0o0BnSNdVykOjQPrHEcpkUqNALAtUMGNgo0B+3egt0W2jQLgyGTi5eqNAeO35wiSHo0BMeb9YHJOjQG4pF7CnnqNAXTW17KxDoUAxM1d25aahQJOBe7rn+qFAt7QiaGVDokALzjmu34KiQLZc8sUwu6JApA71PqftokDGz5h9QxujQOCs60XLRKNACPYKKtpqo0CtI8R67I2jQIhQnQBnrqNAW4pKf5zMo0DKmOqp0eijQMgL7RlAA6RAqVTUkhgcpECS5qOghDOkQDExRPunSaRAm+exhaFepEBz1xckjHKkQIhLPFp/haRAhzFQ5I+XpECMbtf8z6ikQELc/e5PuaRAubjMNR7JpECKQmS/R9ikQIObgzrY5qRA8MuqItr0pEBun0jwVgKlQFPCM0ZXD6VAdF4FE52soUAYYexqcxmiQN1QMd3vdaJA2/saz/fFokAdGDHMOwyjQNt/eJ6pSqNAuXrvLK6Co0AH7KpvXrWjQFRA09aQ46NAJcpWqO4NpEAUJFio/zSkQGbiEx4yWaRAsb/13eB6pEAgc3VmV5qkQJZyXyjVt6RAy3d/34/TpEBvjRF4te2kQJdOHGxtBqVAHn+F7tkdpUDq9kTHGDSlQMXHQAVESaVAh6tJoXJdpUChOmrmuHClQE2QMOoog6VAURxYv9KUpUCys3DQxKWlQDsAHRcMtqVA5VdBN7TFpUAKNdrGx9SlQJu/R2BQ46VAC3yoZAusoUAiqZul1R6iQPA8rb78gKJAG7WYXGXWokBaZtiUwSGjQE6VzhwCZaNA8rgKlJeho0BSMjqamtijQKs43MjlCqRAf31SOiY5pECjfFFX52OkQHIJEaOhi6RAmuQylqWwpEA8UrHOSNOkQMxltonN86RApDVXGWwSpUD7G9fRVC+lQKyM/2axSqVAmx+8+qVkpUCeHa5FUn2lQMscMwHSlKVAB0EGxD2rpUDYvElAq8ClQJUZK+ot1aVA7iLtBdfopUCZX8gjtvulQPQ15ETZDaZAOL17E00fpkCE/q4FHTCmQD+LUoBTQKZAjgF2dFh3oUCzYPsJVeuhQBSWpsTfTqJAaNrJu86lokBOULUXyvKiQElO+0y7N6NA1MCiuQ12o0DM2nAi1q6jQKviKdXr4qNAzB0yjPkSpEDD0craiD+kQNIOUfQJaaRApIc4xNmPpEBgw9jHRbSkQPBs2nuP1qRAYq6EjO72pEDw2dDFkhWlQAU1ZmalMqVAZejzU0pOpUB77QHtoGilQJm3l9HEgaVAYJj/YM6ZpUDpOkdL07ClQCQ6LtzmxqVA6xL9XhrcpUC9ah1jffClQKcEqOsdBKZAteLtqggXpkAxqmQnSSmmQJtRmNbpOqZApHy5Mxo0oUDUOTe6JqehQCK5n2L/CaJAHqLBFmtgokArYAK+B62iQFs7EXq38aJAxABbEuAvo0BlUwxakmijQD3l6WeinKNAmngsmbjMo0ASR0htXPmjQLAeco/8IqRA/sTsj/RJpEARfgzWkG6kQN6RvPYRkaRAcN+l1K6xpEBInw+RltCkQEkS0tnx7aRAhzWaGOQJpUB1Trs0jCSlQI55lnMFPqVAoZ401GdWpUBRgxi+yG2lQAjf0T07hKVA64kPV9CZpUBRuXFkl66lQOvAjjqewqVAUV6mU/HVpUAz5nESnOilQKNA5r6o+qVAq0JYt/jvoEBM42ruemGhQJ2kJDEIw6FAO1XPblgYokAw5j01/2OiQMWJSTjXp6JA+fvR8EDlokCRX2PiSB2jQMP2RA3AUKNAadA0KUyAo0AmzcDFcqyjQMyfPN6g1aNAeql3lTD8o0B5lI5MbSCkQFVNXJOWQqRArtqmfeJipEBHWLWCf4GkQAFtSbCVnqRAH22K60e6pECqPuO0tNSkQCZzq9727aRAnvB/FCYGpUB59dptVx2lQF36z6qdM6VAMxHznwlJpUArbqFjql2lQB21LJeNcaVA5OA9kL+EpUAO3Vp9S5elQLKwPY47qaVAQ0WlXN+uoEBHT+Bfsh6hQHSTWmLNfqFAnV4sLdrSoUD8EiBjYh2iQNr7W685YKJAAVT4LLucokDRa3tg79OiQD8yTDikBqNAzlPK8nw1o0B0Uc4X/WCjQIan9vqPiaNAxjSbeo6vo0DxUK/OQtOjQNNv7ZTr9KNAwuu0E74UpEAGbW8R6DKkQL8BcgORT6RAprwZSttqpEBp4p7r5ISkQFcA9FTInaRAqONw6Zy1pEAEIfxYd8ykQPdedS1q4qRA7iyJ8IX3pEABz66E2QulQIEGXFdyH6VAISOTilwypUDgbuQro0SlQBDR+zpQVqVA47cHXMBxoEALMXN24t+gQE+yWbqGPqFA1whbeEmRoUATY2LtqtqhQLkGlyV4HKJAc7uWNwdYokAPUBLqXI6iQPB22RZEwKJAnQGQqF3uokAYETxGKxmjQDS61bEWQaNAlTAZhXdmo0C/aQDRlomjQLEShViyqqNAoN1GoP7Jo0DTNlGzqOejQPLWbXnXA6RA8INh16wepECHWithRjikQLcFLh++UKRArVAJFitopECZxE6yoX6kQIx/YjE0lKRAiUrh3fKopEAphWpm7LykQFCm9/8t0KRAX5uLp8PipEDWwikyuPSkQNI44IYVBqVAGJOXfZo4oEB8XVnbFKWgQD/QOUdIAqFAO0G8i8RToUB96i0lAZyhQLyJG87E3KFAGvrc6WAXokAbNcWn1kyiQGtVigrufaJAn4Pj10WrokC0/Y27XdWiQN8M4S+e/KJAkFvZa10ho0D6r/OW40OjQO0PZYFtZKNAjCOS9i6Do0BeE2ZiVKCjQOLb2iEEvKNANl6okF/Wo0Boapngg++jQIUQkriKB6RA9LLtxooepEA+sfwwmDSkQCkk8unESaRAUcBDCSFepECBtrb7unGkQKo5ydKfhKRAYSxmT9uWpEB+rjUreKikQGqtkiKAuaRA9S/eVxwDoED5dIeH+m2gQM6QWIXFyaBAsTu4fAEaoUCgJQzEHWGhQMb2HfXaoKFAlB7SKobaoUByvdkUHQ+iQOmQXi9lP6JAQqjg+fprokAZ+kScXJWiQGjvfPzwu6JAoDpoPA3gokCRlROL+AGjQEeWP9juIaNA+kzgRCNAo0COGcWcwVyjQG7A07nvd6NAtYd6fM6Ro0BlSyKzeqqjQKR5f6YNwqNAm+iXsZ3Yo0CD0+i0Pu6jQEG4BWECA6RAK1qJlvgWpEDBlhqMLyqkQIA4JiK0PKRAmezt8ZFOpEDep/qH01+kQFKYjoSCcKRAtQ3O3Lyhn0B3zLcBKzqgQAiG7JyVlKBAH3MBHJfjoECC9MM9lymhQN03iQJRaKFAko+1TA2hoUA8+QepxtShQPJk3gBABKJAp1FA5BMwokBx4Kq9vliiQM1VfTmmfqJADObAUx6iokBu4CVIbcOiQIK2zkTO4qJAr3S1vnMAo0DyZmHniByjQEjVDRMzN6NAQlghwJJQo0A4G2FJxGijQLarFK7gf6NAkrM98v2Vo0BKILC4L6ujQEHEtmuHv6NACqGZthTTo0DCp9Cj5eWjQOORRNwG+KNAZ3iC2oMJpEBWaHv+ZhqkQFgRDMS5KqRA5hY5OvBCn0BgkmrLOwmgQD49TyFMYqBAV4okihewoEBZkAd+/vSgQI072bm2MqFAcVytMYVqoUASBpdFYZ2hQPumQZYLzKFAUgZGxRz3oUDMdGK2Dx+iQJASI9VIRKJAuoDOBBtnokCo1VOay4eiQCzbpBiVpqJARiX9NqnDokCL4M+hMt+iQNEsdTZW+aJAXZuG+jMSo0CDf/z75ymjQFAlj9SKQKNAXfzsTjJWo0B26SW18WqjQC5+XE3afqNAjuB/ffuRo0CJOnomY6SjQHjMQ78dtqNAHgIaoTbHo0CVkk4IuNejQC5Guker56NA6sYbrw7pnkAS3fSNkLWfQG9fBFqCMqBAnh7CORp/oEBZ69tZ6cKgQNhJHG+g/6BAMXLRoIA2oUBamoaFfmihQK8x6GVYlqFAiHZmHKXAoUDUFUIH3uehQDFwEGRmDKJAglLFC5AuokBvehmKn06iQJD8wZPObKJAv0+GTE6JokBphNHXSKSiQEZUQp/ivaJAhJCMPDvWokC+gD1Zbu2iQNEZwUyUA6NAHRZXkcIYo0DlawQ6DC2jQLNu5ESCQKNA7cVm7TNTo0B4mrXjLmWjQOY3aXd/dqNA2k8J1TCHo0DknEcdTZejQC4bM33dpqNAwWkBF2aTnkCNPgIT6lyfQEvQcMLaBKBA0YSsqz9QoEDG+ECI9pKgQOTqAUSrzqBAiIpGhZsEoUB4P+UJuTWhQB/iafW/YqFAoDgXX0WMoUBmfGNEwbKhQCf2UqeV1qFAFQ0wehP4oUCkoWhwfheiQH6UoYcPNaJARwqeVPdQokDOI994X2uiQEKdUdtrhKJAJq9PuzucokDwYzxt6rKiQG9Iz/ePyKJAtkC4iEHdokCt0Bb5EfGiQDjHKxMSBKNAsDsb31AWo0AYejra2yejQI8uXS+/OKNAIAU95QVJo0AKJtzxuVijQGWEKHTkZ6NAGiIkN1dBnkBMFzXo3wefQNwlTXICsp9Artno6jEjoEDkdXuZzmSgQPtjWYl+n6BAJ4eF6XvUoEBlf+PitQShQDRRN2zmMKFAm4th86BZoUD/Xb0lXH+hQEk849h4oqFAE39oJEfDoUBetu/XCeKhQApD6lP5/qFALv7LmEUaokAPAQe2FzSiQGZfajiTTKJAFukk/9ZjokBVc/3z/XmiQOcAHdsfj6JAncFLp1GjokDAMxLkpbaiQHk74DMtyaJAC7D7XvbaokAg6lDADuyiQF+xW1aC/KJAWamU+1sMo0AIHKaOpRujQHshQAloKqNAHl7rxlTynUDKSiSD4LWeQHDUG59WXZ9AFO4tUkrvn0BR5Cl2JDigQEBdbyTMcaBAffB+7NKloEDiMBp5JdWgQMe8ccN7AKFAXwPbmWcooUAgdDlRXk2hQFkRC62/b6FAfzTRytqPoUBUFQ7G8a2hQNAd9Vg8yqFANnLD4unkoUARKYIII/6hQGe4z9wKFqJAoMcX1b8sokD6wWygXEKiQCbm7p74VqJAba2WhahqokBrGUOufn2iQMRFXG2Lj6JAPLp8a92gokCl50nQgbGiQCKCemyEwaJAi/jY+O/QokDoUK0wzt+iQO6ENOYn7qJAp771jeGlnUBFvdXTa2aeQBLhgN0uC59Axnq5yq2an0DZvfr5tAygQOKxHlxQRaBAQYreolx4oED4W3b0w6agQD8oekk80aBAyMr24VX4oECjs1HJhByhQL5ZE7YnPqFAc/U04IxdoUC/x9iV9XqhQBXI1euYlqFAYt83taWwoUCGDE8ZRMmhQLFeLrmW4KFA87kgqLv2oUAw/fI+zQuiQNgqv5DiH6JAToSFBhAzokBsE129Z0WiQCE2/9P5VqJAYpREvtRnokC8OAZoBXiiQM5dJIaXh6JAUn5bpJWWokCn7DZSCaWiQNYjZEH7sqJA36HmdZBbnUCnnLgVEhmeQMlFAm4au55A+9FobBxIn0BK1nM3jsSfQAxrOHLSGaBAlIGLuuBLoEBmnXOYWXmgQEguQBvxoqBAgMgcADbJoEA9jWn7muygQA4Wp7V9DaFA3bjygSssoUA+6szv5EihQDsZm1bgY6FArJdXDUx9oUByAZqhT5WhQBvOgE4NrKFAEJC4xKLBoUC8Xm3yKdahQF7z9KS56aFAQaED/GX8oUBy0xLOQA6iQMJamfZZH6JATF+Htr8vokBVw/HHfj+iQGy+6amiTqJA1awHvDVdokDFH9BpQWuiQL8lBEDOeKJAj0hyuQITnUB3RyjUc82dQDQQJGq5bJ5Ae7WAKzf3nkBUPAr1V3GfQJLtuuxI3p9AdLBbWjIgoEDPhbzrukygQFGY6VJwdaBADQVKq9+aoEAiehHSf72gQAGppCui3aBAv16G55j7oEA2GGXAoxehQMZ+M2b4MaFAsEapecRKoUBktW4dL2KhQLkMnAFaeKFAJA/xZGKNoUBr4MbcYaGhQLvY6NhutKFAqc19K53GoUAUjp1X/tehQBNcrAWi6KFApDrQKJb4oUAJ/JFT5weiQG2OrsegFqJAlasxtcwkokBgmBJcdDKiQKNHMSGgP6JA41bSGOjLnEDVhagmQYOdQNf0q8a9H55AAvCHAbKnnkCgNLEFfh+fQI8i2jpSip9ABSUCoGrqn0ARwI0nzSCgQG63ibygSKBAqy+1dzttoECwdDFyDY+gQIdTnRNyrqBAEljrurTLoEAmfItUFOegQIGU/M7FAKFAOXgTJ/YYoUDiylXmyy+hQFXqmj5oRaFATua4/+dZoUD+0qxIZG2hQItIuznzf6FA8elCQKiRoUAmb0qdlKKhQJKJq6rHsqFAgqKKJk/CoUAnzs9YN9GhQEP+X1CL36FA3nCfFlXtoUAIDd6vnfqhQMk3tlltB6JAHMX1a/6FnED7F6ZpOjqdQKcwsHPq051AwpWuFF9ZnkBvFz7h086eQCxEYKx0N59AburlFo+Vn0AVtxhw4+qfQIpS9AlnHKBAgy3wKzFAoEDlMdnKPmGgQFm4sg7qf6BA/ROzVX2coECiz8GfNregQIIsGhNK0KBAyCvuBeTnoEAeZ9hZKv6gQIpAX7M9E6FAxce6cDonoUAXUYxGOTqhQJkEMdxPTKFAuZDAUJFdoUDj+0aZDm6hQJLFz7zWfaFATX0rN/eMoUBPdrITfJuhQMAszi1wqaFAwpouT922oUBDZs5UzMOhQG0iKk5F0KFAhmVwaRFBnEBFlxWOLvKcQONkWacdiZ1AfzKMb/sLnkDGmJddIX+eQIh7ZQ+j5Z5AIoJoycdBn0BuhcNxSpWfQDWai/yC4Z9AhF5gqMAToEA3z9bXDzSgQGpbKeYHUqBA9rqfIPJtoECML2eRC4igQLD9H5KHoKBAISdprpG3oECQlQApT82gQIypnx/g4aBA6m+ZYmD1oEA4NiEz6AehQDXUnNqMGaFA52SyFGEqoUBnlTeBdTqhQM9QcOfYSaFAoQDsaJhYoUAlMgbkv2ahQBS/4PJZdKFAW5NUMHCBoUDJK/RGC46hQOV3aRkzmqFAIJDMa/r8m0D7njkGCKucQBoxPMMhP51A6AaQgIC/nUAstP6WYTCeQHRidvbPlJ5AnzXupQvvnkAj4Vg7ykCfQJY1Tg1fi59AJUqbCNbPn0CHla80gwegQLL/6JfPJKBAvyTeVRhAoED+yHxpmVmgQD46fVWFcaBAo66s7waIoEDo6MPOQp2gQOzsv3JYsaBACZM/MGPEoEBDSrvTetagQNSqlji056BAaMhewyH4oEAOLN240wehQHapPZPYFqFAsi4SPD0loUCv3fdFDTOhQMukaxlTQKFAG7CVGhhNoUA0RLbFZFmhQF76HtpAZaFAorkBiZ+5m0BV0nh1lmScQKXYVcz29ZxA99RW+ONznUDuCNAej+KdQLmfY+35RJ5AiBtnQl2dnkCOIlqfaO2eQIaiZrFqNp9AkEcIZWt5n0BXYEq1PrefQOVwFdOQ8J9A695gzvcSoEDa4kWL6CugQNhnpT1MQ6BAmdDt+ExZoEAaS6GoDm6gQEaD6zqwgaBA2z0SeUyUoEA/FRHB+qWgQLB2xYLPtqBAWXNVzdzGoED7OtKRMtagQNjUwPTe5KBAJbAErO7yoEBVHaQBbQChQCGPTzBkDaFA1DZVYt0ZoUA0f4Lq4CWhQNetF152MaFAlLVkSv52m0DdhZGP4R6cQOL13/eYrZxAxMx/VSYpnUBcnnplrpWdQOUVdrYo9p1AjZnG48ZMnkDuhyQmMpueQFf/gEG04p5A8JOoJ1Ekn0AVXFJA2WCfQFLTcBL2mJ9A1xN5DTPNn0BwbVUzBP6fQL15i3TlFaBAm34i62wroEDQGZ3Kuz+gQEhXaV/wUqBAOGQP/SRloEA/N4iFcHagQJn6+RHnhqBAHE9yS5qWoEAU0rbQmaWgQHEeH4nzs6BAUR6p4bPBoEDL5evy5c6gQJ3MMbaT26BAs/rlLcbnoEBvrz6EhfOgQPBicRrZ/qBA9rWZlPU0m0AA1mAf6dmbQDK4wEkMZpxAy3a9Y0/fnEDIazO9yUmdQGtichVpqJ1Ae2lQ21b9nUAQhIZONkqeQN7f3A9MkJ5AwIJ295fQnkBux2kP5wufQMsuWwbgQp9AJum97Qt2n0BY5Fix3KWfQGw82yay0p9AH42MTt38n0B+gVbBURKgQBTD3iUgJaBAQkRzqfM2oEArUNG64kegQM7/rhgBWKBAoB2gDWBnoEACgF3xDnagQBFEj2YbhKBA4APvl5GRoECeFStmfJ6gQBPBt5vlqqBAJrksENa2oEA71Q+/VcKgQPZwQeZrzaBAW0Hiu5jzmkCEOVzds5WbQM8O/+BaH5xAA47AV2uWnEAe+rhd7/6cQJjWpBXKW51AuSX4Ih2vnUCb305mhfqdQC/60ndCP55AxAbFGFB+nkBkLcD/d7ieQH0Onxhe7p5AJ6xpCokgn0DeBgPdaE+fQPjpHp1be59Aalz+BbGkn0DpdhURrcufQId82z2K8J9AN+dmpr0JoEBwBm0kVhqgQAJUnughKqBAp6ZsBDI5oEAPKJB3lUegQKPpCKNZVaBAvgo3eopioEB5hhOsMm+gQJ4xvs1be6BAxu8Rjg6HoECfGLa/UpKgQOEmyn4vnaBAmL0PEe+ymkC4t+qATFKbQHeH0E+R2ZtAFQpSpIhOnEBJLGE4LrWcQIsZtDJbEJ1AMQaAFClinUAioep7LqydQCFb1wam751Ad2gCfYctnkCw7IJSmWaeQMKQo6B8m55AL3eO7bXMnkD2HrRIs/qeQI7dmibRJZ9AHexq1V1On0AKwBQznHSfQOoU7LDFmJ9AKETKFwy7n0DG3H+smtufQP6JnXqX+p9A655D8BEMoEC7igG7LhqgQCAu2jWvJ6BA5kU/G580oEBeOtDqCEGgQI3bvw72TKBAJXtBB29YoECFK6qHe2OgQP6+xosibqBA+bh0DgRzmkCETU4zwA+bQCDYAzC+lJtAZ+ZS5bUHnECmBH07lWycQI+PLeoqxpxAre1mfYgWnUDw1mS0Pl+dQFVbGRCDoZ1AzycDlEnenUD5ze91VRaeQGbKFDdFSp5AQpxALZt6nkDx0/yYw6eeQDqFRmIZ0p5A9ihvgen5nkDlYDusdR+fQFsX6mb2Qp9A1JvDlZxkn0DWogTIkoSfQM5omVX+op9APGRDDwDAn0DQpff8tNufQBd6tvA29p9AreJacM4HoEB5FCC5/ROgQN2+yJeyH6BAMQUQY/UqoECW3AOnzTWgQP4cw0NCQKBA",
          "dtype": "f8",
          "shape": "30, 30"
         }
        }
       ],
       "layout": {
        "height": 700,
        "template": {
         "data": {
          "bar": [
           {
            "error_x": {
             "color": "#2a3f5f"
            },
            "error_y": {
             "color": "#2a3f5f"
            },
            "marker": {
             "line": {
              "color": "#E5ECF6",
              "width": 0.5
             },
             "pattern": {
              "fillmode": "overlay",
              "size": 10,
              "solidity": 0.2
             }
            },
            "type": "bar"
           }
          ],
          "barpolar": [
           {
            "marker": {
             "line": {
              "color": "#E5ECF6",
              "width": 0.5
             },
             "pattern": {
              "fillmode": "overlay",
              "size": 10,
              "solidity": 0.2
             }
            },
            "type": "barpolar"
           }
          ],
          "carpet": [
           {
            "aaxis": {
             "endlinecolor": "#2a3f5f",
             "gridcolor": "white",
             "linecolor": "white",
             "minorgridcolor": "white",
             "startlinecolor": "#2a3f5f"
            },
            "baxis": {
             "endlinecolor": "#2a3f5f",
             "gridcolor": "white",
             "linecolor": "white",
             "minorgridcolor": "white",
             "startlinecolor": "#2a3f5f"
            },
            "type": "carpet"
           }
          ],
          "choropleth": [
           {
            "colorbar": {
             "outlinewidth": 0,
             "ticks": ""
            },
            "type": "choropleth"
           }
          ],
          "contour": [
           {
            "colorbar": {
             "outlinewidth": 0,
             "ticks": ""
            },
            "colorscale": [
             [
              0,
              "#0d0887"
             ],
             [
              0.1111111111111111,
              "#46039f"
             ],
             [
              0.2222222222222222,
              "#7201a8"
             ],
             [
              0.3333333333333333,
              "#9c179e"
             ],
             [
              0.4444444444444444,
              "#bd3786"
             ],
             [
              0.5555555555555556,
              "#d8576b"
             ],
             [
              0.6666666666666666,
              "#ed7953"
             ],
             [
              0.7777777777777778,
              "#fb9f3a"
             ],
             [
              0.8888888888888888,
              "#fdca26"
             ],
             [
              1,
              "#f0f921"
             ]
            ],
            "type": "contour"
           }
          ],
          "contourcarpet": [
           {
            "colorbar": {
             "outlinewidth": 0,
             "ticks": ""
            },
            "type": "contourcarpet"
           }
          ],
          "heatmap": [
           {
            "colorbar": {
             "outlinewidth": 0,
             "ticks": ""
            },
            "colorscale": [
             [
              0,
              "#0d0887"
             ],
             [
              0.1111111111111111,
              "#46039f"
             ],
             [
              0.2222222222222222,
              "#7201a8"
             ],
             [
              0.3333333333333333,
              "#9c179e"
             ],
             [
              0.4444444444444444,
              "#bd3786"
             ],
             [
              0.5555555555555556,
              "#d8576b"
             ],
             [
              0.6666666666666666,
              "#ed7953"
             ],
             [
              0.7777777777777778,
              "#fb9f3a"
             ],
             [
              0.8888888888888888,
              "#fdca26"
             ],
             [
              1,
              "#f0f921"
             ]
            ],
            "type": "heatmap"
           }
          ],
          "histogram": [
           {
            "marker": {
             "pattern": {
              "fillmode": "overlay",
              "size": 10,
              "solidity": 0.2
             }
            },
            "type": "histogram"
           }
          ],
          "histogram2d": [
           {
            "colorbar": {
             "outlinewidth": 0,
             "ticks": ""
            },
            "colorscale": [
             [
              0,
              "#0d0887"
             ],
             [
              0.1111111111111111,
              "#46039f"
             ],
             [
              0.2222222222222222,
              "#7201a8"
             ],
             [
              0.3333333333333333,
              "#9c179e"
             ],
             [
              0.4444444444444444,
              "#bd3786"
             ],
             [
              0.5555555555555556,
              "#d8576b"
             ],
             [
              0.6666666666666666,
              "#ed7953"
             ],
             [
              0.7777777777777778,
              "#fb9f3a"
             ],
             [
              0.8888888888888888,
              "#fdca26"
             ],
             [
              1,
              "#f0f921"
             ]
            ],
            "type": "histogram2d"
           }
          ],
          "histogram2dcontour": [
           {
            "colorbar": {
             "outlinewidth": 0,
             "ticks": ""
            },
            "colorscale": [
             [
              0,
              "#0d0887"
             ],
             [
              0.1111111111111111,
              "#46039f"
             ],
             [
              0.2222222222222222,
              "#7201a8"
             ],
             [
              0.3333333333333333,
              "#9c179e"
             ],
             [
              0.4444444444444444,
              "#bd3786"
             ],
             [
              0.5555555555555556,
              "#d8576b"
             ],
             [
              0.6666666666666666,
              "#ed7953"
             ],
             [
              0.7777777777777778,
              "#fb9f3a"
             ],
             [
              0.8888888888888888,
              "#fdca26"
             ],
             [
              1,
              "#f0f921"
             ]
            ],
            "type": "histogram2dcontour"
           }
          ],
          "mesh3d": [
           {
            "colorbar": {
             "outlinewidth": 0,
             "ticks": ""
            },
            "type": "mesh3d"
           }
          ],
          "parcoords": [
           {
            "line": {
             "colorbar": {
              "outlinewidth": 0,
              "ticks": ""
             }
            },
            "type": "parcoords"
           }
          ],
          "pie": [
           {
            "automargin": true,
            "type": "pie"
           }
          ],
          "scatter": [
           {
            "fillpattern": {
             "fillmode": "overlay",
             "size": 10,
             "solidity": 0.2
            },
            "type": "scatter"
           }
          ],
          "scatter3d": [
           {
            "line": {
             "colorbar": {
              "outlinewidth": 0,
              "ticks": ""
             }
            },
            "marker": {
             "colorbar": {
              "outlinewidth": 0,
              "ticks": ""
             }
            },
            "type": "scatter3d"
           }
          ],
          "scattercarpet": [
           {
            "marker": {
             "colorbar": {
              "outlinewidth": 0,
              "ticks": ""
             }
            },
            "type": "scattercarpet"
           }
          ],
          "scattergeo": [
           {
            "marker": {
             "colorbar": {
              "outlinewidth": 0,
              "ticks": ""
             }
            },
            "type": "scattergeo"
           }
          ],
          "scattergl": [
           {
            "marker": {
             "colorbar": {
              "outlinewidth": 0,
              "ticks": ""
             }
            },
            "type": "scattergl"
           }
          ],
          "scattermap": [
           {
            "marker": {
             "colorbar": {
              "outlinewidth": 0,
              "ticks": ""
             }
            },
            "type": "scattermap"
           }
          ],
          "scattermapbox": [
           {
            "marker": {
             "colorbar": {
              "outlinewidth": 0,
              "ticks": ""
             }
            },
            "type": "scattermapbox"
           }
          ],
          "scatterpolar": [
           {
            "marker": {
             "colorbar": {
              "outlinewidth": 0,
              "ticks": ""
             }
            },
            "type": "scatterpolar"
           }
          ],
          "scatterpolargl": [
           {
            "marker": {
             "colorbar": {
              "outlinewidth": 0,
              "ticks": ""
             }
            },
            "type": "scatterpolargl"
           }
          ],
          "scatterternary": [
           {
            "marker": {
             "colorbar": {
              "outlinewidth": 0,
              "ticks": ""
             }
            },
            "type": "scatterternary"
           }
          ],
          "surface": [
           {
            "colorbar": {
             "outlinewidth": 0,
             "ticks": ""
            },
            "colorscale": [
             [
              0,
              "#0d0887"
             ],
             [
              0.1111111111111111,
              "#46039f"
             ],
             [
              0.2222222222222222,
              "#7201a8"
             ],
             [
              0.3333333333333333,
              "#9c179e"
             ],
             [
              0.4444444444444444,
              "#bd3786"
             ],
             [
              0.5555555555555556,
              "#d8576b"
             ],
             [
              0.6666666666666666,
              "#ed7953"
             ],
             [
              0.7777777777777778,
              "#fb9f3a"
             ],
             [
              0.8888888888888888,
              "#fdca26"
             ],
             [
              1,
              "#f0f921"
             ]
            ],
            "type": "surface"
           }
          ],
          "table": [
           {
            "cells": {
             "fill": {
              "color": "#EBF0F8"
             },
             "line": {
              "color": "white"
             }
            },
            "header": {
             "fill": {
              "color": "#C8D4E3"
             },
             "line": {
              "color": "white"
             }
            },
            "type": "table"
           }
          ]
         },
         "layout": {
          "annotationdefaults": {
           "arrowcolor": "#2a3f5f",
           "arrowhead": 0,
           "arrowwidth": 1
          },
          "autotypenumbers": "strict",
          "coloraxis": {
           "colorbar": {
            "outlinewidth": 0,
            "ticks": ""
           }
          },
          "colorscale": {
           "diverging": [
            [
             0,
             "#8e0152"
            ],
            [
             0.1,
             "#c51b7d"
            ],
            [
             0.2,
             "#de77ae"
            ],
            [
             0.3,
             "#f1b6da"
            ],
            [
             0.4,
             "#fde0ef"
            ],
            [
             0.5,
             "#f7f7f7"
            ],
            [
             0.6,
             "#e6f5d0"
            ],
            [
             0.7,
             "#b8e186"
            ],
            [
             0.8,
             "#7fbc41"
            ],
            [
             0.9,
             "#4d9221"
            ],
            [
             1,
             "#276419"
            ]
           ],
           "sequential": [
            [
             0,
             "#0d0887"
            ],
            [
             0.1111111111111111,
             "#46039f"
            ],
            [
             0.2222222222222222,
             "#7201a8"
            ],
            [
             0.3333333333333333,
             "#9c179e"
            ],
            [
             0.4444444444444444,
             "#bd3786"
            ],
            [
             0.5555555555555556,
             "#d8576b"
            ],
            [
             0.6666666666666666,
             "#ed7953"
            ],
            [
             0.7777777777777778,
             "#fb9f3a"
            ],
            [
             0.8888888888888888,
             "#fdca26"
            ],
            [
             1,
             "#f0f921"
            ]
           ],
           "sequentialminus": [
            [
             0,
             "#0d0887"
            ],
            [
             0.1111111111111111,
             "#46039f"
            ],
            [
             0.2222222222222222,
             "#7201a8"
            ],
            [
             0.3333333333333333,
             "#9c179e"
            ],
            [
             0.4444444444444444,
             "#bd3786"
            ],
            [
             0.5555555555555556,
             "#d8576b"
            ],
            [
             0.6666666666666666,
             "#ed7953"
            ],
            [
             0.7777777777777778,
             "#fb9f3a"
            ],
            [
             0.8888888888888888,
             "#fdca26"
            ],
            [
             1,
             "#f0f921"
            ]
           ]
          },
          "colorway": [
           "#636efa",
           "#EF553B",
           "#00cc96",
           "#ab63fa",
           "#FFA15A",
           "#19d3f3",
           "#FF6692",
           "#B6E880",
           "#FF97FF",
           "#FECB52"
          ],
          "font": {
           "color": "#2a3f5f"
          },
          "geo": {
           "bgcolor": "white",
           "lakecolor": "white",
           "landcolor": "#E5ECF6",
           "showlakes": true,
           "showland": true,
           "subunitcolor": "white"
          },
          "hoverlabel": {
           "align": "left"
          },
          "hovermode": "closest",
          "mapbox": {
           "style": "light"
          },
          "paper_bgcolor": "white",
          "plot_bgcolor": "#E5ECF6",
          "polar": {
           "angularaxis": {
            "gridcolor": "white",
            "linecolor": "white",
            "ticks": ""
           },
           "bgcolor": "#E5ECF6",
           "radialaxis": {
            "gridcolor": "white",
            "linecolor": "white",
            "ticks": ""
           }
          },
          "scene": {
           "xaxis": {
            "backgroundcolor": "#E5ECF6",
            "gridcolor": "white",
            "gridwidth": 2,
            "linecolor": "white",
            "showbackground": true,
            "ticks": "",
            "zerolinecolor": "white"
           },
           "yaxis": {
            "backgroundcolor": "#E5ECF6",
            "gridcolor": "white",
            "gridwidth": 2,
            "linecolor": "white",
            "showbackground": true,
            "ticks": "",
            "zerolinecolor": "white"
           },
           "zaxis": {
            "backgroundcolor": "#E5ECF6",
            "gridcolor": "white",
            "gridwidth": 2,
            "linecolor": "white",
            "showbackground": true,
            "ticks": "",
            "zerolinecolor": "white"
           }
          },
          "shapedefaults": {
           "line": {
            "color": "#2a3f5f"
           }
          },
          "ternary": {
           "aaxis": {
            "gridcolor": "white",
            "linecolor": "white",
            "ticks": ""
           },
           "baxis": {
            "gridcolor": "white",
            "linecolor": "white",
            "ticks": ""
           },
           "bgcolor": "#E5ECF6",
           "caxis": {
            "gridcolor": "white",
            "linecolor": "white",
            "ticks": ""
           }
          },
          "title": {
           "x": 0.05
          },
          "xaxis": {
           "automargin": true,
           "gridcolor": "white",
           "linecolor": "white",
           "ticks": "",
           "title": {
            "standoff": 15
           },
           "zerolinecolor": "white",
           "zerolinewidth": 2
          },
          "yaxis": {
           "automargin": true,
           "gridcolor": "white",
           "linecolor": "white",
           "ticks": "",
           "title": {
            "standoff": 15
           },
           "zerolinecolor": "white",
           "zerolinewidth": 2
          }
         }
        },
        "title": {
         "text": "Thrust vs OF and Pc"
        },
        "width": 800,
        "xaxis": {
         "title": {
          "text": "O/F Ratio"
         }
        },
        "yaxis": {
         "title": {
          "text": "Chamber Pressure (atm)"
         }
        }
       }
      }
     },
     "metadata": {},
     "output_type": "display_data"
    }
   ],
   "source": [
    "#Plots OF & Pc for either Isp or Thrust\n",
    "isp_data = extract_metric(engine_grid, \"Isp\")\n",
    "plot_heatmap(OF_range, Pc_range, isp_data, \"Isp vs OF and Pc\", \"Isp [s]\")\n",
    "#x = OF, y = Pc, z = Isp\n",
    "thrust_data = extract_metric(engine_grid, \"Thrust\")\n",
    "plot_heatmap(OF_range, Pc_range, thrust_data, \"Thrust vs OF and Pc\", \"Thrust [N]\") \n",
    "#x = OF, y = Pc, z = Thrust"
   ]
  }
 ],
 "metadata": {
  "kernelspec": {
   "display_name": ".venv",
   "language": "python",
   "name": "python3"
  },
  "language_info": {
   "codemirror_mode": {
    "name": "ipython",
    "version": 3
   },
   "file_extension": ".py",
   "mimetype": "text/x-python",
   "name": "python",
   "nbconvert_exporter": "python",
   "pygments_lexer": "ipython3",
   "version": "3.12.10"
  }
 },
 "nbformat": 4,
 "nbformat_minor": 5
}
